{
 "cells": [
  {
   "cell_type": "code",
   "execution_count": 5,
   "id": "e3ef305a-00e1-4f38-a228-96223f6da762",
   "metadata": {
    "tags": []
   },
   "outputs": [],
   "source": [
    "#imports\n",
    "\n",
    "import pandas as pd\n",
    "import matplotlib.pyplot as plt\n",
    "import numpy as np\n",
    "import seaborn as sns\n",
    "from scipy import stats\n",
    "from scipy.stats import norm\n",
    "import statistics\n",
    "from scipy.integrate import solve_ivp"
   ]
  },
  {
   "cell_type": "code",
   "execution_count": 43,
   "id": "859c3b05-5dd1-4176-b4c5-623872a46f18",
   "metadata": {
    "tags": []
   },
   "outputs": [],
   "source": [
    "# I Deriving PCA from the SVD \n",
    "df = pd.read_csv('ovarian_cancer.csv')"
   ]
  },
  {
   "cell_type": "code",
   "execution_count": 60,
   "id": "a6ef8850-a14e-43a3-98bd-b83b3857c667",
   "metadata": {},
   "outputs": [],
   "source": [
    "#1. Implement principal component analysis for an arbitrary dataset: \n",
    "#.  you may use an implementation of the singular value decomposition.\n",
    "\n",
    "#function to compute pca\n",
    "def PCA(data):\n",
    "    xmean = data.mean(axis=1)                                #mean of each row\n",
    "    xbar = xmean * np.ones((1, data.shape[1]))               #avg matrix\n",
    "    matrixB = data - xbar                                    #Subtract data\n",
    "    U, S, VT = np.linalg.svd(matrixB, full_matrices = False) #SVD decomp on matrix B\n",
    "    S = np.diag(S)                                           #Singular values from S to construct a diag matrix S\n",
    "    T = np.matmul(U,S)                                       #principle component mat\n",
    "    return T,S                                               #return compoment matrix T and Sigma from svd decomp"
   ]
  },
  {
   "cell_type": "code",
   "execution_count": 63,
   "id": "3f0bc70e-ad25-462e-b2b2-74f1d4d223d8",
   "metadata": {},
   "outputs": [],
   "source": [
    "#2. Using the ovarian_cancer.csv dataset from the last homework, apply your implementation of PCA. \n",
    "#.  Plot singular values and plot the fraction of variance corresponding to each singular value. \n",
    "\n",
    "#take out features\n",
    "ov_df = df.drop(columns = ['status','patients'])\n",
    "#data set not workable with our function -- need to transform in to matrix\n",
    "ov_df = np.mat(ov_df)\n",
    "#use the function\n",
    "T, S = PCA(ov_df)\n",
    "#plot function Singular Values\n",
    "plt.title(\"Singular Values\")\n",
    "\n",
    "\n"
   ]
  },
  {
   "cell_type": "code",
   "execution_count": null,
   "id": "edffaf37-2ef2-4df8-a1f5-d4c67d5688b5",
   "metadata": {},
   "outputs": [],
   "source": [
    "#plot fraction of variance corresponding ot each singular value"
   ]
  },
  {
   "cell_type": "code",
   "execution_count": 99,
   "id": "fdd6a179-ad96-4fd5-b5be-c3c7942c1de2",
   "metadata": {
    "tags": []
   },
   "outputs": [
    {
     "data": {
      "image/png": "[encoded data removed]",
      "text/plain": [
       "<Figure size 640x480 with 1 Axes>"
      ]
     },
     "metadata": {},
     "output_type": "display_data"
    }
   ],
   "source": [
    "#ov_df\n",
    "#T\n",
    "#S\n",
    "\n",
    "#a couple of options for plotting here..\n",
    "\n",
    "plt.semilogy(np.diag(S));\n",
    "#plt.semilogy(T,S);\n",
    "#sns.barplot(S)\n"
   ]
  },
  {
   "cell_type": "code",
   "execution_count": 81,
   "id": "0692481a-7b43-446c-a21a-63f571f1d07e",
   "metadata": {},
   "outputs": [],
   "source": [
    "#3. Find the two first principal components. Note that the ith principal component is calculated by: "
   ]
  },
  {
   "cell_type": "code",
   "execution_count": null,
   "id": "28cf6bc0-758b-45ba-8738-ac5890ff3307",
   "metadata": {},
   "outputs": [],
   "source": [
    "# II Signal decomposition.  "
   ]
  },
  {
   "cell_type": "code",
   "execution_count": null,
   "id": "5ab67e5e-92e9-47c4-b1ae-d0d72fe15e04",
   "metadata": {},
   "outputs": [],
   "source": []
  }
 ],
 "metadata": {
  "kernelspec": {
   "display_name": "Python 3 (ipykernel)",
   "language": "python",
   "name": "python3"
  },
  "language_info": {
   "codemirror_mode": {
    "name": "ipython",
    "version": 3
   },
   "file_extension": ".py",
   "mimetype": "text/x-python",
   "name": "python",
   "nbconvert_exporter": "python",
   "pygments_lexer": "ipython3",
   "version": "3.11.3"
  }
 },
 "nbformat": 4,
 "nbformat_minor": 5
}
