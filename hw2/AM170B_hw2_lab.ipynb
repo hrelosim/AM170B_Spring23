{
 "cells": [
  {
   "cell_type": "code",
   "execution_count": 2,
   "id": "e3ef305a-00e1-4f38-a228-96223f6da762",
   "metadata": {
    "tags": []
   },
   "outputs": [],
   "source": [
    "#imports\n",
    "\n",
    "import pandas as pd\n",
    "import matplotlib.pyplot as plt\n",
    "import numpy as np\n",
    "import seaborn as sns\n",
    "from scipy import stats\n",
    "from scipy.stats import norm\n",
    "import statistics\n",
    "from scipy.integrate import solve_ivp"
   ]
  },
  {
   "cell_type": "code",
   "execution_count": 7,
   "id": "859c3b05-5dd1-4176-b4c5-623872a46f18",
   "metadata": {
    "tags": []
   },
   "outputs": [],
   "source": [
    "# I Deriving PCA from the SVD \n",
    "ds = pd.read_csv('ovarian_cancer.csv')\n",
    "\n",
    "ov_ds = ds.copy()\n",
    "\n"
   ]
  },
  {
   "cell_type": "code",
   "execution_count": 1,
   "id": "307830b7-05a1-4229-9db0-63d2cef65a43",
   "metadata": {
    "tags": []
   },
   "outputs": [],
   "source": [
    "#v_ds"
   ]
  },
  {
   "cell_type": "code",
   "execution_count": null,
   "id": "a6ef8850-a14e-43a3-98bd-b83b3857c667",
   "metadata": {},
   "outputs": [],
   "source": [
    "#1. Implement principal component analysis for an arbitrary dataset: \n",
    "#.  you may use an implementation of the singular value decomposition."
   ]
  },
  {
   "cell_type": "code",
   "execution_count": null,
   "id": "3f0bc70e-ad25-462e-b2b2-74f1d4d223d8",
   "metadata": {},
   "outputs": [],
   "source": [
    "#2. Using the ovarian_cancer.csv dataset from the last homework, apply your implementation of PCA. \n",
    "#.  Plot singular values and plot the fraction of variance corresponding to each singular value. "
   ]
  },
  {
   "cell_type": "code",
   "execution_count": null,
   "id": "0692481a-7b43-446c-a21a-63f571f1d07e",
   "metadata": {},
   "outputs": [],
   "source": [
    "#3. Find the two first principal components. Note that the ith principal component is calculated by: "
   ]
  },
  {
   "cell_type": "code",
   "execution_count": null,
   "id": "28cf6bc0-758b-45ba-8738-ac5890ff3307",
   "metadata": {},
   "outputs": [],
   "source": [
    "# II Signal decomposition.  "
   ]
  },
  {
   "cell_type": "code",
   "execution_count": null,
   "id": "5ab67e5e-92e9-47c4-b1ae-d0d72fe15e04",
   "metadata": {},
   "outputs": [],
   "source": []
  }
 ],
 "metadata": {
  "kernelspec": {
   "display_name": "Python 3 (ipykernel)",
   "language": "python",
   "name": "python3"
  },
  "language_info": {
   "codemirror_mode": {
    "name": "ipython",
    "version": 3
   },
   "file_extension": ".py",
   "mimetype": "text/x-python",
   "name": "python",
   "nbconvert_exporter": "python",
   "pygments_lexer": "ipython3",
   "version": "3.11.3"
  }
 },
 "nbformat": 4,
 "nbformat_minor": 5
}
